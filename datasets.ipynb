{
 "cells": [
  {
   "cell_type": "code",
   "execution_count": null,
   "id": "96076d2d-87d8-4ee9-ab37-0d75cd2b23a5",
   "metadata": {},
   "outputs": [],
   "source": [
    "from pathlib import Path\n",
    "import scanpy as sc\n",
    "import os, warnings \n",
    "warnings.filterwarnings('ignore') "
   ]
  },
  {
   "cell_type": "code",
   "execution_count": null,
   "id": "f187926e-0288-48b6-954e-8ef694c825c4",
   "metadata": {},
   "outputs": [],
   "source": [
    "path = Path('data')\n",
    "if not os.path.exists(path):\n",
    "    os.makedirs(path)"
   ]
  },
  {
   "cell_type": "markdown",
   "id": "0451e292-1d03-484d-bf1f-4501f56e40b7",
   "metadata": {},
   "source": [
    "## 10x Genomics Data"
   ]
  },
  {
   "cell_type": "markdown",
   "id": "5f3c7671-ecdf-4838-99da-11057874eaf4",
   "metadata": {},
   "source": [
    "### Lymph node"
   ]
  },
  {
   "cell_type": "code",
   "execution_count": null,
   "id": "67ed9845-e868-4d42-9d4f-27319ec9f3d0",
   "metadata": {},
   "outputs": [],
   "source": [
    "adata = sc.datasets.visium_sge(sample_id=\"V1_Human_Lymph_Node\")"
   ]
  },
  {
   "cell_type": "markdown",
   "id": "c4cc3058-66bb-4d52-859c-f3ab0ad8782b",
   "metadata": {},
   "source": [
    "### Glioblastoma"
   ]
  },
  {
   "cell_type": "code",
   "execution_count": null,
   "id": "9aa25530-4e0f-47bb-88a1-8716df977793",
   "metadata": {},
   "outputs": [],
   "source": [
    "adata = sc.datasets.visium_sge(sample_id=\"Parent_Visium_Human_Glioblastoma\")"
   ]
  },
  {
   "cell_type": "markdown",
   "id": "37d621fe-5d13-41d1-a021-4736fe11f49d",
   "metadata": {},
   "source": [
    "### CytAssist_FFPE_Protein_Expression_Human_Breast_Cancer"
   ]
  },
  {
   "cell_type": "code",
   "execution_count": null,
   "id": "45596a16-9453-46ee-8fc6-028d03a164dd",
   "metadata": {},
   "outputs": [],
   "source": [
    "path = Path('data/CytAssist_FFPE_Protein_Expression_Human_Breast_Cancer')\n",
    "if not os.path.exists(path):\n",
    "    os.makedirs(path)\n",
    "\n",
    "!curl -o data/CytAssist_FFPE_Protein_Expression_Human_Breast_Cancer/filtered_feature_bc_matrix.h5 https://cf.10xgenomics.com/samples/spatial-exp/2.1.0/CytAssist_FFPE_Protein_Expression_Human_Breast_Cancer/CytAssist_FFPE_Protein_Expression_Human_Breast_Cancer_filtered_feature_bc_matrix.h5\n",
    "!curl -o data/CytAssist_FFPE_Protein_Expression_Human_Breast_Cancer/spatial.tar.gz https://cf.10xgenomics.com/samples/spatial-exp/2.1.0/CytAssist_FFPE_Protein_Expression_Human_Breast_Cancer/CytAssist_FFPE_Protein_Expression_Human_Breast_Cancer_spatial.tar.gz\n",
    "!tar -xzvf data/CytAssist_FFPE_Protein_Expression_Human_Breast_Cancer/spatial.tar.gz -C data/CytAssist_FFPE_Protein_Expression_Human_Breast_Cancer/"
   ]
  },
  {
   "cell_type": "markdown",
   "id": "c6664cfe-2c6a-443b-ad20-102c0ae1c86b",
   "metadata": {},
   "source": [
    "### CytAssist_FFPE_Protein_Expression_Human_Tonsil"
   ]
  },
  {
   "cell_type": "code",
   "execution_count": null,
   "id": "592a5c7e-3f8d-47a9-a094-e9dcefb2962f",
   "metadata": {},
   "outputs": [],
   "source": [
    "path = Path('data/CytAssist_FFPE_Protein_Expression_Human_Tonsil')\n",
    "if not os.path.exists(path):\n",
    "    os.makedirs(path)\n",
    "\n",
    "!curl -o data/CytAssist_FFPE_Protein_Expression_Human_Tonsil/filtered_feature_bc_matrix.h5 https://cf.10xgenomics.com/samples/spatial-exp/2.1.0/CytAssist_FFPE_Protein_Expression_Human_Tonsil/CytAssist_FFPE_Protein_Expression_Human_Tonsil_filtered_feature_bc_matrix.h5\n",
    "!curl -o data/CytAssist_FFPE_Protein_Expression_Human_Tonsil/spatial.tar.gz https://cf.10xgenomics.com/samples/spatial-exp/2.1.0/CytAssist_FFPE_Protein_Expression_Human_Tonsil/CytAssist_FFPE_Protein_Expression_Human_Tonsil_spatial.tar.gz\n",
    "!tar -xzvf data/CytAssist_FFPE_Protein_Expression_Human_Tonsil/spatial.tar.gz -C data/CytAssist_FFPE_Protein_Expression_Human_Tonsil/"
   ]
  },
  {
   "cell_type": "code",
   "execution_count": null,
   "id": "3a494ba0-953a-4d92-8fd9-a3b86c3d1e85",
   "metadata": {},
   "outputs": [],
   "source": [
    "path = Path('data/CytAssist_FFPE_Protein_Expression_Human_Tonsil_AddOns')\n",
    "if not os.path.exists(path):\n",
    "    os.makedirs(path)\n",
    "\n",
    "!curl -o data/CytAssist_FFPE_Protein_Expression_Human_Tonsil_AddOns/filtered_feature_bc_matrix.h5 https://cf.10xgenomics.com/samples/spatial-exp/2.1.0/CytAssist_FFPE_Protein_Expression_Human_Tonsil_AddOns/CytAssist_FFPE_Protein_Expression_Human_Tonsil_AddOns_filtered_feature_bc_matrix.h5\n",
    "!curl -o data/CytAssist_FFPE_Protein_Expression_Human_Tonsil_AddOns/spatial.tar.gz https://cf.10xgenomics.com/samples/spatial-exp/2.1.0/CytAssist_FFPE_Protein_Expression_Human_Tonsil_AddOns/CytAssist_FFPE_Protein_Expression_Human_Tonsil_AddOns_spatial.tar.gz\n",
    "!tar -xzvf data/CytAssist_FFPE_Protein_Expression_Human_Tonsil_AddOns/spatial.tar.gz -C data/CytAssist_FFPE_Protein_Expression_Human_Tonsil_AddOns/"
   ]
  },
  {
   "cell_type": "markdown",
   "id": "3282a759-69da-4459-b944-223ad8735ea9",
   "metadata": {},
   "source": [
    "## Breast Cancer Data (Wu et al.)"
   ]
  },
  {
   "cell_type": "code",
   "execution_count": 3,
   "id": "d5f55194-e830-4377-81cd-eba0dded3964",
   "metadata": {},
   "outputs": [],
   "source": [
    "path = Path('data/Breast_Wu')\n",
    "if not os.path.exists(path):\n",
    "    os.makedirs(path)\n",
    "\n",
    "cwd = os.getcwd() # record the current working directory\n",
    "os.chdir(path) # change the working directory for consicer commands below"
   ]
  },
  {
   "cell_type": "markdown",
   "id": "cf561035-def2-4832-bcdd-36813dd44dd8",
   "metadata": {},
   "source": [
    "### scRNA-seq"
   ]
  },
  {
   "cell_type": "code",
   "execution_count": null,
   "id": "14fce035-a389-44f5-976c-5be13b16fee1",
   "metadata": {},
   "outputs": [],
   "source": [
    "!curl -O -J https://ftp.ncbi.nlm.nih.gov/geo/series/GSE176nnn/GSE176078/suppl/GSE176078_Wu_etal_2021_BRCA_scRNASeq.tar.gz\n",
    "!tar -xzvf data/Breast_Wu/scRNASeq.tar.gz"
   ]
  },
  {
   "cell_type": "code",
   "execution_count": null,
   "id": "9cc02de9-4c91-4acb-8610-b4496391f867",
   "metadata": {},
   "outputs": [],
   "source": [
    "adata_scRNA = sc.read_mtx(\"count_matrix_sparse.mtx\").transpose()\n",
    "adata_scRNA.obs = pd.read_csv(\"metadata.csv\", index_col=0)\n",
    "adata_scRNA.var_names = pd.read_csv(\"count_matrix_genes.tsv\", index_col=0, header=None).index.to_list()\n",
    "adata_scRNA.write_h5ad(\"scRNA.h5ad\")"
   ]
  },
  {
   "cell_type": "markdown",
   "id": "70822241-59a9-4e3f-a260-94ae652d691e",
   "metadata": {},
   "source": [
    "### ST"
   ]
  },
  {
   "cell_type": "code",
   "execution_count": null,
   "id": "54ec3d23-d8e3-4037-9cf1-450ee26aa9d6",
   "metadata": {},
   "outputs": [],
   "source": [
    "!curl -L -O \"https://zenodo.org/record/4739739/files/spatial.tar.gz?download=1\"\n",
    "!curl -L -O \"https://zenodo.org/record/4739739/files/metadata.tar.gz?download=1\"\n",
    "!curl -L -O \"https://zenodo.org/record/4739739/files/filtered_count_matrices.tar.gz?download=1\""
   ]
  },
  {
   "cell_type": "code",
   "execution_count": 4,
   "id": "b7ecb583-e3ac-4558-8a1e-8b98166dd236",
   "metadata": {},
   "outputs": [
    {
     "name": "stdout",
     "output_type": "stream",
     "text": [
      "tar: Error opening archive: Failed to open 'metadata.tar.gz'\n",
      "tar: Error opening archive: Failed to open 'filtered_count_matrices.tar.gz'\n",
      "tar: Error opening archive: Failed to open 'spatial.tar.gz'\n"
     ]
    }
   ],
   "source": [
    "!tar -xzvf metadata.tar.gz\n",
    "!tar -xzvf filtered_count_matrices.tar.gz\n",
    "!tar -xzvf spatial.tar.gz"
   ]
  },
  {
   "cell_type": "markdown",
   "id": "f3661895-e57b-4743-a2df-980ef1d03dd6",
   "metadata": {},
   "source": [
    "### Process ST"
   ]
  },
  {
   "cell_type": "code",
   "execution_count": 6,
   "id": "d3262069-87fa-4064-b664-632f0d232db2",
   "metadata": {},
   "outputs": [
    {
     "ename": "NameError",
     "evalue": "name 'imread' is not defined",
     "output_type": "error",
     "traceback": [
      "\u001b[31m---------------------------------------------------------------------------\u001b[39m",
      "\u001b[31mNameError\u001b[39m                                 Traceback (most recent call last)",
      "\u001b[36mCell\u001b[39m\u001b[36m \u001b[39m\u001b[32mIn[6]\u001b[39m\u001b[32m, line 27\u001b[39m\n\u001b[32m     25\u001b[39m adata.uns[\u001b[33m\"\u001b[39m\u001b[33mspatial\u001b[39m\u001b[33m\"\u001b[39m][sample_id][\u001b[33m'\u001b[39m\u001b[33mimages\u001b[39m\u001b[33m'\u001b[39m] = \u001b[38;5;28mdict\u001b[39m()\n\u001b[32m     26\u001b[39m \u001b[38;5;28;01mfor\u001b[39;00m res \u001b[38;5;129;01min\u001b[39;00m [\u001b[33m'\u001b[39m\u001b[33mhires\u001b[39m\u001b[33m'\u001b[39m, \u001b[33m'\u001b[39m\u001b[33mlowres\u001b[39m\u001b[33m'\u001b[39m]:\n\u001b[32m---> \u001b[39m\u001b[32m27\u001b[39m     adata.uns[\u001b[33m\"\u001b[39m\u001b[33mspatial\u001b[39m\u001b[33m\"\u001b[39m][sample_id][\u001b[33m'\u001b[39m\u001b[33mimages\u001b[39m\u001b[33m'\u001b[39m][res] = \u001b[43mimread\u001b[49m(\n\u001b[32m     28\u001b[39m         \u001b[38;5;28mstr\u001b[39m(files[\u001b[33mf\u001b[39m\u001b[33m'\u001b[39m\u001b[38;5;132;01m{\u001b[39;00mres\u001b[38;5;132;01m}\u001b[39;00m\u001b[33m_image\u001b[39m\u001b[33m'\u001b[39m])\n\u001b[32m     29\u001b[39m     )\n\u001b[32m     31\u001b[39m \u001b[38;5;66;03m# read json scalefactors\u001b[39;00m\n\u001b[32m     32\u001b[39m adata.uns[\u001b[33m\"\u001b[39m\u001b[33mspatial\u001b[39m\u001b[33m\"\u001b[39m][sample_id][\u001b[33m'\u001b[39m\u001b[33mscalefactors\u001b[39m\u001b[33m'\u001b[39m] = json.loads(\n\u001b[32m     33\u001b[39m     Path(files[\u001b[33m'\u001b[39m\u001b[33mscalefactors_json_file\u001b[39m\u001b[33m'\u001b[39m]).read_bytes()\n\u001b[32m     34\u001b[39m )\n",
      "\u001b[31mNameError\u001b[39m: name 'imread' is not defined"
     ]
    }
   ],
   "source": [
    "from matplotlib.image import imread\n",
    "from glob import glob\n",
    "import json\n",
    "\n",
    "for sample_id in [\"1142243F\", \"1160920F\", \"CID4290\", \"CID4535\", \"CID4465\", \"CID44971\"]:\n",
    "    for f in glob(f\"filtered_count_matrices/{sample_id}_filtered_count_matrix/*.gz\"):\n",
    "        g=f[0:-3]\n",
    "        !mv $f $g\n",
    "    adata=sc.read_mtx(f\"filtered_count_matrices/{sample_id}_filtered_count_matrix/matrix.mtx\").T\n",
    "    with open(f\"filtered_count_matrices/{sample_id}_filtered_count_matrix/barcodes.tsv\", \"r\") as f:\n",
    "        adata.obs_names=f.read().split(\"\\n\")[0:-1]\n",
    "    with open(f\"filtered_count_matrices/{sample_id}_filtered_count_matrix/features.tsv\", \"r\") as f:\n",
    "        adata.var_names=f.read().split(\"\\n\")[0:-1]\n",
    "\n",
    "    adata.uns[\"spatial\"] = dict()\n",
    "    adata.uns[\"spatial\"][sample_id] = dict()\n",
    "    spatial_path='spatial/'+sample_id+'_spatial/'\n",
    "    files = dict(\n",
    "        tissue_positions_file=spatial_path+'tissue_positions_list.csv',\n",
    "        scalefactors_json_file=spatial_path+'scalefactors_json.json',\n",
    "        hires_image=spatial_path+'tissue_hires_image.png',\n",
    "        lowres_image=spatial_path+'tissue_lowres_image.png',\n",
    "    )\n",
    "\n",
    "    adata.uns[\"spatial\"][sample_id]['images'] = dict()\n",
    "    for res in ['hires', 'lowres']:\n",
    "        adata.uns[\"spatial\"][sample_id]['images'][res] = imread(\n",
    "            str(files[f'{res}_image'])\n",
    "        )\n",
    "\n",
    "    # read json scalefactors\n",
    "    adata.uns[\"spatial\"][sample_id]['scalefactors'] = json.loads(\n",
    "        Path(files['scalefactors_json_file']).read_bytes()\n",
    "    )\n",
    "\n",
    "    # read coordinates\n",
    "    positions = pd.read_csv(files['tissue_positions_file'], header=None)\n",
    "    positions.columns = [\n",
    "        'barcode',\n",
    "        'in_tissue',\n",
    "        'array_row',\n",
    "        'array_col',\n",
    "        'pxl_col_in_fullres',\n",
    "        'pxl_row_in_fullres',\n",
    "    ]\n",
    "    positions.index = positions['barcode']\n",
    "    adata.obs = adata.obs.join(positions, how=\"left\")\n",
    "    adata.obsm['spatial'] = adata.obs[\n",
    "        ['pxl_row_in_fullres', 'pxl_col_in_fullres']\n",
    "    ].to_numpy()\n",
    "    adata.obs.drop(\n",
    "        columns=['barcode', 'pxl_row_in_fullres', 'pxl_col_in_fullres'],\n",
    "        inplace=True,\n",
    "    )\n",
    "    adata.write_h5ad(f\"{sample_id}.h5ad\")"
   ]
  },
  {
   "cell_type": "code",
   "execution_count": null,
   "id": "39167043-ee19-4ac6-9d62-130ca0dd5594",
   "metadata": {},
   "outputs": [],
   "source": []
  }
 ],
 "metadata": {
  "kernelspec": {
   "display_name": "Python 3 (ipykernel)",
   "language": "python",
   "name": "python3"
  },
  "language_info": {
   "codemirror_mode": {
    "name": "ipython",
    "version": 3
   },
   "file_extension": ".py",
   "mimetype": "text/x-python",
   "name": "python",
   "nbconvert_exporter": "python",
   "pygments_lexer": "ipython3",
   "version": "3.11.5"
  }
 },
 "nbformat": 4,
 "nbformat_minor": 5
}
