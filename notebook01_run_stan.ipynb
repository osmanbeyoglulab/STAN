{
 "cells": [
  {
   "cell_type": "code",
   "execution_count": 1,
   "metadata": {},
   "outputs": [],
   "source": [
    "from pathlib import Path\n",
    "import matplotlib.pyplot as plt\n",
    "import numpy as np\n",
    "import pandas as pd\n",
    "import scanpy as sc\n",
    "import seaborn as sns\n",
    "import os, warnings \n",
    "warnings.filterwarnings('ignore') \n",
    "import stan"
   ]
  },
  {
   "cell_type": "code",
   "execution_count": 2,
   "metadata": {},
   "outputs": [],
   "source": [
    "path = Path('outputs_stan')\n",
    "if not os.path.exists(path):\n",
    "    os.makedirs(path)"
   ]
  },
  {
   "cell_type": "code",
   "execution_count": 3,
   "metadata": {},
   "outputs": [],
   "source": [
    "def stan_wrap(adata, lam_range=[1e-3, 1e3], n_steps=4, use_pixel=True):\n",
    "    adata = stan.add_gene_tf_matrix(adata, min_cells_proportion = 0.2, min_tfs_per_gene= 5, min_genes_per_tf= 10,\n",
    "                                    gene_tf_source=\"hTFtarget\", tf_list=\"humantfs\", source_dir=\"resources/\")\n",
    "    stan.pixel_intensity(adata, windowsize=25)\n",
    "    if use_pixel:\n",
    "        stan.make_kernel_from_pixel(adata, n=250, im_feats_weight=0.1)\n",
    "    else:\n",
    "        stan.make_kernel(adata, X=adata.obsm['spatial'], n=250)\n",
    "    sc.pp.normalize_total(adata)\n",
    "    adata.layers['scaled'] = np.sqrt(adata.to_df())\n",
    "    stan.assign_folds(adata, n_folds=10, random_seed=0)\n",
    "    \n",
    "    stan_model = stan.Stan(adata, layer='scaled')\n",
    "    stan_model.fit(n_steps=n_steps, stages=1,\n",
    "                   grid_search_params={'lam1':lam_range, 'lam2':lam_range})\n",
    "    print(stan_model.params)\n",
    "    \n",
    "    cor, gene_cor = stan_model.evaluate(fold=-1)\n",
    "    adata.obs['pred_cor_stan'] = cor\n",
    "    adata.var['pred_cor_stan'] = gene_cor\n",
    "    print(\"Spot-wise correlation:\" + str(round(np.nanmedian(cor), 4)))\n",
    "    print(\"Gene-wise correlation: \" + str(round(np.nanmedian(gene_cor), 4)))\n",
    "    \n",
    "    adata.obsm['tfa_stan'] = pd.DataFrame(\n",
    "        stan_model.W_concat.T, index=adata.obs_names, columns=adata.uns['tf_names'])\n",
    "    return adata"
   ]
  },
  {
   "cell_type": "markdown",
   "metadata": {},
   "source": [
    "### CytAssist (Visium)"
   ]
  },
  {
   "cell_type": "code",
   "execution_count": 4,
   "metadata": {},
   "outputs": [
    {
     "name": "stdout",
     "output_type": "stream",
     "text": [
      "CytAssist_FFPE_Protein_Expression_Human_Tonsil\n",
      "Time elapsed: 31.76 seconds\n",
      "{'lam1': 1000.0, 'lam2': 0.001}\n",
      "Spot-wise correlation:0.3161\n",
      "Gene-wise correlation: 0.1154\n",
      "CytAssist_FFPE_Protein_Expression_Human_Tonsil_AddOns\n",
      "Time elapsed: 37.32 seconds\n",
      "{'lam1': 1000.0, 'lam2': 1000.0}\n",
      "Spot-wise correlation:0.34\n",
      "Gene-wise correlation: 0.1697\n",
      "CytAssist_FFPE_Protein_Expression_Human_Breast_Cancer\n",
      "Time elapsed: 27.82 seconds\n",
      "{'lam1': 1000.0, 'lam2': 0.001}\n",
      "Spot-wise correlation:0.1988\n",
      "Gene-wise correlation: 0.1716\n"
     ]
    }
   ],
   "source": [
    "sample_list = [\"CytAssist_FFPE_Protein_Expression_Human_Tonsil\",\n",
    "               \"CytAssist_FFPE_Protein_Expression_Human_Tonsil_AddOns\",\n",
    "              'CytAssist_FFPE_Protein_Expression_Human_Breast_Cancer']\n",
    "for sample_id in sample_list:\n",
    "    print(sample_id)\n",
    "    adata, pdata = stan.read_cytassist('data/'+sample_id, min_cells=5, min_counts=500, remove_isotype=True)\n",
    "    adata = stan_wrap(adata)\n",
    "    adata.write(path / ('adata_'+sample_id+'.h5ad'))"
   ]
  },
  {
   "cell_type": "markdown",
   "metadata": {},
   "source": [
    "### Breast"
   ]
  },
  {
   "cell_type": "code",
   "execution_count": 5,
   "metadata": {},
   "outputs": [
    {
     "name": "stdout",
     "output_type": "stream",
     "text": [
      "1142243F\n",
      "Time elapsed: 24.37 seconds\n",
      "{'lam1': 1000.0, 'lam2': 1000.0}\n",
      "Spot-wise correlation:0.2199\n",
      "Gene-wise correlation: 0.116\n",
      "1160920F\n",
      "Time elapsed: 27.31 seconds\n",
      "{'lam1': 1000.0, 'lam2': 10.0}\n",
      "Spot-wise correlation:0.223\n",
      "Gene-wise correlation: 0.1575\n",
      "CID4290\n",
      "Time elapsed: 12.51 seconds\n",
      "{'lam1': 1000.0, 'lam2': 10.0}\n",
      "Spot-wise correlation:0.2531\n",
      "Gene-wise correlation: 0.1728\n",
      "CID4535\n",
      "Time elapsed: 7.14 seconds\n",
      "{'lam1': 1000.0, 'lam2': 10.0}\n",
      "Spot-wise correlation:0.2937\n",
      "Gene-wise correlation: 0.1514\n",
      "CID4465\n",
      "Time elapsed: 7.99 seconds\n",
      "{'lam1': 1000.0, 'lam2': 1000.0}\n",
      "Spot-wise correlation:0.2378\n",
      "Gene-wise correlation: 0.1563\n",
      "CID44971\n",
      "Time elapsed: 7.19 seconds\n",
      "{'lam1': 1000.0, 'lam2': 0.001}\n",
      "Spot-wise correlation:0.2834\n",
      "Gene-wise correlation: 0.1897\n"
     ]
    }
   ],
   "source": [
    "sample_list = [\"1142243F\", \"1160920F\", \"CID4290\", \"CID4535\", \"CID4465\", \"CID44971\"]\n",
    "for sample_id in sample_list:\n",
    "    print(sample_id)\n",
    "    adata = stan.read_breast_wu(\"data/Breast_Wu/{}.h5ad\".format(sample_id))\n",
    "    adata = stan_wrap(adata)\n",
    "    adata.write(path / ('adata_Breast_Wu_'+sample_id+'.h5ad'))"
   ]
  },
  {
   "cell_type": "markdown",
   "metadata": {},
   "source": [
    "### Lymphnode"
   ]
  },
  {
   "cell_type": "code",
   "execution_count": 6,
   "metadata": {},
   "outputs": [
    {
     "name": "stdout",
     "output_type": "stream",
     "text": [
      "Time elapsed: 27.52 seconds\n",
      "{'lam1': 1000.0, 'lam2': 1000.0}\n",
      "Spot-wise correlation:0.2277\n",
      "Gene-wise correlation: 0.0896\n"
     ]
    }
   ],
   "source": [
    "sample_id = \"V1_Human_Lymph_Node\"\n",
    "adata = stan.read_visium_sge(sample_id=sample_id, min_cells=5, min_counts=5000)\n",
    "adata = stan_wrap(adata)\n",
    "adata.write(path / ('adata_'+sample_id+'.h5ad'))"
   ]
  },
  {
   "cell_type": "markdown",
   "metadata": {},
   "source": [
    "### Glioblastoma"
   ]
  },
  {
   "cell_type": "code",
   "execution_count": 7,
   "metadata": {},
   "outputs": [
    {
     "name": "stdout",
     "output_type": "stream",
     "text": [
      "Time elapsed: 19.26 seconds\n",
      "{'lam1': 1000.0, 'lam2': 0.001}\n",
      "Spot-wise correlation:0.2424\n",
      "Gene-wise correlation: 0.1636\n"
     ]
    }
   ],
   "source": [
    "sample_id = \"Parent_Visium_Human_Glioblastoma\"\n",
    "adata = stan.read_visium_sge(sample_id=sample_id, min_cells=5, min_counts=500)\n",
    "adata = stan_wrap(adata)\n",
    "adata.write(path / ('adata_'+sample_id+'.h5ad'))"
   ]
  },
  {
   "cell_type": "code",
   "execution_count": null,
   "metadata": {},
   "outputs": [],
   "source": []
  }
 ],
 "metadata": {
  "kernelspec": {
   "display_name": "Python 3 (ipykernel)",
   "language": "python",
   "name": "python3"
  },
  "language_info": {
   "codemirror_mode": {
    "name": "ipython",
    "version": 3
   },
   "file_extension": ".py",
   "mimetype": "text/x-python",
   "name": "python",
   "nbconvert_exporter": "python",
   "pygments_lexer": "ipython3",
   "version": "3.11.5"
  }
 },
 "nbformat": 4,
 "nbformat_minor": 4
}
