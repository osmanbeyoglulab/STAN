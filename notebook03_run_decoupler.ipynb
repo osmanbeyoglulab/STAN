{
 "cells": [
  {
   "cell_type": "code",
   "execution_count": 1,
   "metadata": {},
   "outputs": [],
   "source": [
    "from pathlib import Path\n",
    "import pandas as pd\n",
    "import scanpy as sc\n",
    "import os, warnings \n",
    "warnings.filterwarnings('ignore') \n",
    "\n",
    "import stan"
   ]
  },
  {
   "cell_type": "markdown",
   "metadata": {},
   "source": [
    "Create a new environment and follow the documentation of [DecoupleR](https://decoupler-py.readthedocs.io/en/latest/) for installatoin."
   ]
  },
  {
   "cell_type": "code",
   "execution_count": 2,
   "metadata": {},
   "outputs": [],
   "source": [
    "import decoupler as dc\n",
    "def run_decoupler(adata, net):\n",
    "    # Input: raw scRNA-seq data\n",
    "    #        TF-gene dataframe\n",
    "    adata.raw = adata\n",
    "    sc.pp.normalize_total(adata)\n",
    "    sc.pp.log1p(adata)\n",
    "    dc.run_ulm(mat=adata, net=net, source='source', target='target', weight='weight', verbose=True)\n",
    "    dc.run_mlm(mat=adata, net=net, source='source', target='target', weight='weight', verbose=True)\n",
    "    return adata"
   ]
  },
  {
   "cell_type": "code",
   "execution_count": 3,
   "metadata": {},
   "outputs": [
    {
     "data": {
      "text/html": [
       "<div>\n",
       "<style scoped>\n",
       "    .dataframe tbody tr th:only-of-type {\n",
       "        vertical-align: middle;\n",
       "    }\n",
       "\n",
       "    .dataframe tbody tr th {\n",
       "        vertical-align: top;\n",
       "    }\n",
       "\n",
       "    .dataframe thead th {\n",
       "        text-align: right;\n",
       "    }\n",
       "</style>\n",
       "<table border=\"1\" class=\"dataframe\">\n",
       "  <thead>\n",
       "    <tr style=\"text-align: right;\">\n",
       "      <th></th>\n",
       "      <th>TF</th>\n",
       "      <th>gene</th>\n",
       "      <th>tissue</th>\n",
       "    </tr>\n",
       "  </thead>\n",
       "  <tbody>\n",
       "    <tr>\n",
       "      <th>0</th>\n",
       "      <td>AEBP2</td>\n",
       "      <td>TMEM53</td>\n",
       "      <td>colon</td>\n",
       "    </tr>\n",
       "    <tr>\n",
       "      <th>1</th>\n",
       "      <td>AEBP2</td>\n",
       "      <td>C1orf228</td>\n",
       "      <td>colon</td>\n",
       "    </tr>\n",
       "    <tr>\n",
       "      <th>2</th>\n",
       "      <td>AEBP2</td>\n",
       "      <td>FBXO31</td>\n",
       "      <td>colon</td>\n",
       "    </tr>\n",
       "    <tr>\n",
       "      <th>3</th>\n",
       "      <td>AEBP2</td>\n",
       "      <td>ADAMTSL5</td>\n",
       "      <td>colon</td>\n",
       "    </tr>\n",
       "    <tr>\n",
       "      <th>4</th>\n",
       "      <td>AEBP2</td>\n",
       "      <td>CTB-25B13.9</td>\n",
       "      <td>colon</td>\n",
       "    </tr>\n",
       "  </tbody>\n",
       "</table>\n",
       "</div>"
      ],
      "text/plain": [
       "      TF         gene tissue\n",
       "0  AEBP2       TMEM53  colon\n",
       "1  AEBP2     C1orf228  colon\n",
       "2  AEBP2       FBXO31  colon\n",
       "3  AEBP2     ADAMTSL5  colon\n",
       "4  AEBP2  CTB-25B13.9  colon"
      ]
     },
     "execution_count": 3,
     "metadata": {},
     "output_type": "execute_result"
    }
   ],
   "source": [
    "net = pd.read_csv('resources/hTFtarget.csv', index_col=0)\n",
    "net.head()"
   ]
  },
  {
   "cell_type": "code",
   "execution_count": 4,
   "metadata": {},
   "outputs": [],
   "source": [
    "net = net.drop_duplicates(subset=['TF', 'gene'])\n",
    "net.columns = ['source', 'target', 'tissue']\n",
    "net['weight'] = 1"
   ]
  },
  {
   "cell_type": "code",
   "execution_count": 5,
   "metadata": {},
   "outputs": [],
   "source": [
    "path = Path('benchmark_decoupler')\n",
    "if not os.path.exists(path):\n",
    "    os.makedirs(path)"
   ]
  },
  {
   "cell_type": "markdown",
   "metadata": {},
   "source": [
    "### Lymphnode"
   ]
  },
  {
   "cell_type": "code",
   "execution_count": 6,
   "metadata": {},
   "outputs": [
    {
     "name": "stdout",
     "output_type": "stream",
     "text": [
      "Running ulm on mat with 3991 samples and 21261 targets for 441 sources.\n"
     ]
    },
    {
     "name": "stderr",
     "output_type": "stream",
     "text": [
      "100%|██████████| 1/1 [00:01<00:00,  1.07s/it]\n"
     ]
    },
    {
     "name": "stdout",
     "output_type": "stream",
     "text": [
      "Running mlm on mat with 3991 samples and 21261 targets for 441 sources.\n"
     ]
    },
    {
     "name": "stderr",
     "output_type": "stream",
     "text": [
      "100%|██████████| 1/1 [00:04<00:00,  4.19s/it]\n"
     ]
    }
   ],
   "source": [
    "sample_id=\"V1_Human_Lymph_Node\"\n",
    "adata = stan.read_visium_sge(sample_id=sample_id, min_cells=5, min_counts=5000)\n",
    "adata = run_decoupler(adata, net)\n",
    "adata.obsm['ulm_estimate'].to_csv(path / ('ulm_'+sample_id+'.csv'))\n",
    "adata.obsm['mlm_estimate'].to_csv(path / ('mlm_'+sample_id+'.csv'))"
   ]
  },
  {
   "cell_type": "markdown",
   "metadata": {},
   "source": [
    "### Glioblastoma"
   ]
  },
  {
   "cell_type": "code",
   "execution_count": 7,
   "metadata": {},
   "outputs": [
    {
     "name": "stdout",
     "output_type": "stream",
     "text": [
      "Running ulm on mat with 3462 samples and 20950 targets for 442 sources.\n"
     ]
    },
    {
     "name": "stderr",
     "output_type": "stream",
     "text": [
      "100%|██████████| 1/1 [00:00<00:00,  1.02it/s]\n"
     ]
    },
    {
     "name": "stdout",
     "output_type": "stream",
     "text": [
      "Running mlm on mat with 3462 samples and 20950 targets for 442 sources.\n"
     ]
    },
    {
     "name": "stderr",
     "output_type": "stream",
     "text": [
      "100%|██████████| 1/1 [00:03<00:00,  3.61s/it]\n"
     ]
    }
   ],
   "source": [
    "sample_id=\"Parent_Visium_Human_Glioblastoma\"\n",
    "adata = stan.read_visium_sge(sample_id=sample_id, min_cells=5, min_counts=500)\n",
    "adata = run_decoupler(adata, net)\n",
    "adata.obsm['ulm_estimate'].to_csv(path / ('ulm_'+sample_id+'.csv'))\n",
    "adata.obsm['mlm_estimate'].to_csv(path / ('mlm_'+sample_id+'.csv'))"
   ]
  },
  {
   "cell_type": "markdown",
   "metadata": {},
   "source": [
    "### Breast"
   ]
  },
  {
   "cell_type": "code",
   "execution_count": 8,
   "metadata": {},
   "outputs": [
    {
     "name": "stdout",
     "output_type": "stream",
     "text": [
      "Running ulm on mat with 4636 samples and 19372 targets for 442 sources.\n"
     ]
    },
    {
     "name": "stderr",
     "output_type": "stream",
     "text": [
      "100%|██████████| 1/1 [00:01<00:00,  1.10s/it]\n"
     ]
    },
    {
     "name": "stdout",
     "output_type": "stream",
     "text": [
      "Running mlm on mat with 4636 samples and 19372 targets for 442 sources.\n"
     ]
    },
    {
     "name": "stderr",
     "output_type": "stream",
     "text": [
      "100%|██████████| 1/1 [00:04<00:00,  4.50s/it]\n"
     ]
    },
    {
     "name": "stdout",
     "output_type": "stream",
     "text": [
      "Running ulm on mat with 4842 samples and 19982 targets for 440 sources.\n"
     ]
    },
    {
     "name": "stderr",
     "output_type": "stream",
     "text": [
      "100%|██████████| 1/1 [00:01<00:00,  1.29s/it]\n"
     ]
    },
    {
     "name": "stdout",
     "output_type": "stream",
     "text": [
      "Running mlm on mat with 4842 samples and 19982 targets for 440 sources.\n"
     ]
    },
    {
     "name": "stderr",
     "output_type": "stream",
     "text": [
      "100%|██████████| 1/1 [00:04<00:00,  4.89s/it]\n"
     ]
    },
    {
     "name": "stdout",
     "output_type": "stream",
     "text": [
      "Running ulm on mat with 2425 samples and 17506 targets for 440 sources.\n"
     ]
    },
    {
     "name": "stderr",
     "output_type": "stream",
     "text": [
      "100%|██████████| 1/1 [00:00<00:00,  1.86it/s]\n"
     ]
    },
    {
     "name": "stdout",
     "output_type": "stream",
     "text": [
      "Running mlm on mat with 2425 samples and 17506 targets for 440 sources.\n"
     ]
    },
    {
     "name": "stderr",
     "output_type": "stream",
     "text": [
      "100%|██████████| 1/1 [00:02<00:00,  2.17s/it]\n"
     ]
    },
    {
     "name": "stdout",
     "output_type": "stream",
     "text": [
      "Running ulm on mat with 1031 samples and 16765 targets for 439 sources.\n"
     ]
    },
    {
     "name": "stderr",
     "output_type": "stream",
     "text": [
      "100%|██████████| 1/1 [00:00<00:00,  4.52it/s]\n"
     ]
    },
    {
     "name": "stdout",
     "output_type": "stream",
     "text": [
      "Running mlm on mat with 1031 samples and 16765 targets for 439 sources.\n"
     ]
    },
    {
     "name": "stderr",
     "output_type": "stream",
     "text": [
      "100%|██████████| 1/1 [00:00<00:00,  1.17it/s]\n"
     ]
    },
    {
     "name": "stdout",
     "output_type": "stream",
     "text": [
      "Running ulm on mat with 1207 samples and 17362 targets for 439 sources.\n"
     ]
    },
    {
     "name": "stderr",
     "output_type": "stream",
     "text": [
      "100%|██████████| 1/1 [00:00<00:00,  3.86it/s]\n"
     ]
    },
    {
     "name": "stdout",
     "output_type": "stream",
     "text": [
      "Running mlm on mat with 1207 samples and 17362 targets for 439 sources.\n"
     ]
    },
    {
     "name": "stderr",
     "output_type": "stream",
     "text": [
      "100%|██████████| 1/1 [00:00<00:00,  1.03it/s]\n"
     ]
    },
    {
     "name": "stdout",
     "output_type": "stream",
     "text": [
      "Running ulm on mat with 1161 samples and 17479 targets for 440 sources.\n"
     ]
    },
    {
     "name": "stderr",
     "output_type": "stream",
     "text": [
      "100%|██████████| 1/1 [00:00<00:00,  4.87it/s]\n"
     ]
    },
    {
     "name": "stdout",
     "output_type": "stream",
     "text": [
      "Running mlm on mat with 1161 samples and 17479 targets for 440 sources.\n"
     ]
    },
    {
     "name": "stderr",
     "output_type": "stream",
     "text": [
      "100%|██████████| 1/1 [00:01<00:00,  1.11s/it]\n"
     ]
    }
   ],
   "source": [
    "sample_list = [\"1142243F\", \"1160920F\", \"CID4290\", \"CID4535\", \"CID4465\", \"CID44971\"]\n",
    "for sample_id in sample_list:\n",
    "    adata = stan.read_breast_wu(\"data/Breast_Wu/{}.h5ad\".format(sample_id))\n",
    "    adata = run_decoupler(adata, net)\n",
    "    adata.obsm['ulm_estimate'].to_csv(path / ('ulm_Breast_Wu_'+sample_id+'.csv'))\n",
    "    adata.obsm['mlm_estimate'].to_csv(path / ('mlm_Breast_Wu_'+sample_id+'.csv'))"
   ]
  },
  {
   "cell_type": "markdown",
   "metadata": {},
   "source": [
    "### CytAssist"
   ]
  },
  {
   "cell_type": "code",
   "execution_count": 9,
   "metadata": {},
   "outputs": [
    {
     "name": "stdout",
     "output_type": "stream",
     "text": [
      "Running ulm on mat with 4191 samples and 18041 targets for 433 sources.\n"
     ]
    },
    {
     "name": "stderr",
     "output_type": "stream",
     "text": [
      "100%|██████████| 1/1 [00:00<00:00,  1.03it/s]\n"
     ]
    },
    {
     "name": "stdout",
     "output_type": "stream",
     "text": [
      "Running mlm on mat with 4191 samples and 18041 targets for 433 sources.\n"
     ]
    },
    {
     "name": "stderr",
     "output_type": "stream",
     "text": [
      "100%|██████████| 1/1 [00:03<00:00,  3.90s/it]\n"
     ]
    },
    {
     "name": "stdout",
     "output_type": "stream",
     "text": [
      "Running ulm on mat with 4906 samples and 18050 targets for 433 sources.\n"
     ]
    },
    {
     "name": "stderr",
     "output_type": "stream",
     "text": [
      "100%|██████████| 1/1 [00:01<00:00,  1.39s/it]\n"
     ]
    },
    {
     "name": "stdout",
     "output_type": "stream",
     "text": [
      "Running mlm on mat with 4906 samples and 18050 targets for 433 sources.\n"
     ]
    },
    {
     "name": "stderr",
     "output_type": "stream",
     "text": [
      "100%|██████████| 1/1 [00:04<00:00,  4.78s/it]\n"
     ]
    }
   ],
   "source": [
    "sample_list = [\"CytAssist_FFPE_Protein_Expression_Human_Tonsil\",\n",
    "              \"CytAssist_FFPE_Protein_Expression_Human_Tonsil_AddOns\"]\n",
    "for sample_id in sample_list:\n",
    "    adata, pdata = stan.read_cytassist(sample_id, min_cells=5, min_counts=500, remove_isotype=True)\n",
    "    adata = run_decoupler(adata, net)\n",
    "    adata.obsm['ulm_estimate'].to_csv(path / ('ulm_'+sample_id+'.csv'))\n",
    "    adata.obsm['mlm_estimate'].to_csv(path / ('mlm_'+sample_id+'.csv'))"
   ]
  },
  {
   "cell_type": "code",
   "execution_count": 7,
   "metadata": {},
   "outputs": [
    {
     "name": "stdout",
     "output_type": "stream",
     "text": [
      "Running ulm on mat with 4166 samples and 16911 targets for 433 sources.\n"
     ]
    },
    {
     "name": "stderr",
     "output_type": "stream",
     "text": [
      "100%|██████████| 1/1 [00:01<00:00,  1.64s/it]\n"
     ]
    },
    {
     "name": "stdout",
     "output_type": "stream",
     "text": [
      "Running mlm on mat with 4166 samples and 16911 targets for 433 sources.\n"
     ]
    },
    {
     "name": "stderr",
     "output_type": "stream",
     "text": [
      "100%|██████████| 1/1 [00:06<00:00,  7.00s/it]\n"
     ]
    }
   ],
   "source": [
    "sample_id = 'CytAssist_FFPE_Protein_Expression_Human_Breast_Cancer'\n",
    "adata, pdata = stan.read_cytassist(sample_id, min_cells=5, min_counts=500, remove_isotype=True)\n",
    "adata = run_decoupler(adata, net)\n",
    "adata.obsm['ulm_estimate'].to_csv(path / ('ulm_'+sample_id+'.csv'))\n",
    "adata.obsm['mlm_estimate'].to_csv(path / ('mlm_'+sample_id+'.csv'))"
   ]
  }
 ],
 "metadata": {
  "kernelspec": {
   "display_name": "Python 3 (ipykernel)",
   "language": "python",
   "name": "python3"
  },
  "language_info": {
   "codemirror_mode": {
    "name": "ipython",
    "version": 3
   },
   "file_extension": ".py",
   "mimetype": "text/x-python",
   "name": "python",
   "nbconvert_exporter": "python",
   "pygments_lexer": "ipython3",
   "version": "3.11.5"
  }
 },
 "nbformat": 4,
 "nbformat_minor": 4
}
