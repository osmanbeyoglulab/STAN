{
 "cells": [
  {
   "cell_type": "code",
   "execution_count": 1,
   "metadata": {},
   "outputs": [],
   "source": [
    "import numpy as np\n",
    "import pandas as pd\n",
    "import scanpy as sc\n",
    "\n",
    "from sklearn.metrics import mean_squared_error\n",
    "\n",
    "import os, warnings \n",
    "warnings.filterwarnings('ignore') \n",
    "import stan"
   ]
  },
  {
   "cell_type": "markdown",
   "metadata": {},
   "source": [
    "## Loading scRNA dataset\n",
    "The Processed scRNA-seq data from [this paper](https://www.nature.com/articles/s41588-021-00911-1) is available through the Gene Expression Omnibus under accession number [GSE176078](https://www.ncbi.nlm.nih.gov/geo/query/acc.cgi?acc=GSE176078)."
   ]
  },
  {
   "cell_type": "code",
   "execution_count": 2,
   "metadata": {},
   "outputs": [
    {
     "data": {
      "text/plain": [
       "AnnData object with n_obs × n_vars = 100064 × 29733\n",
       "    obs: 'orig.ident', 'nCount_RNA', 'nFeature_RNA', 'percent.mito', 'subtype', 'celltype_subset', 'celltype_minor', 'celltype_major'"
      ]
     },
     "execution_count": 2,
     "metadata": {},
     "output_type": "execute_result"
    }
   ],
   "source": [
    "fname = 'results_breast/scRNA.h5ad'\n",
    "if os.path.isfile(fname):\n",
    "    adata_scRNA = sc.read_h5ad(fname)\n",
    "else:\n",
    "    path = 'data/Breast_Wu/Wu_etal_2021_BRCA_scRNASeq/'\n",
    "    adata_scRNA = sc.read_mtx(path+\"count_matrix_sparse.mtx\").transpose()\n",
    "    adata_scRNA.obs = pd.read_csv(path+\"metadata.csv\", index_col=0)\n",
    "    adata_scRNA.var_names = pd.read_csv(path+\"count_matrix_genes.tsv\", index_col=0, header=None).index.to_list()\n",
    "    adata_scRNA\n",
    "\n",
    "    os.makedirs('results_breast', exist_ok=True)\n",
    "    adata_scRNA.write_h5ad(fname)\n",
    "\n",
    "adata_scRNA"
   ]
  },
  {
   "cell_type": "code",
   "execution_count": 3,
   "metadata": {},
   "outputs": [
    {
     "data": {
      "text/plain": [
       "{'CID4290A': View of AnnData object with n_obs × n_vars = 5789 × 29733\n",
       "     obs: 'orig.ident', 'nCount_RNA', 'nFeature_RNA', 'percent.mito', 'subtype', 'celltype_subset', 'celltype_minor', 'celltype_major',\n",
       " 'CID4465': View of AnnData object with n_obs × n_vars = 1564 × 29733\n",
       "     obs: 'orig.ident', 'nCount_RNA', 'nFeature_RNA', 'percent.mito', 'subtype', 'celltype_subset', 'celltype_minor', 'celltype_major',\n",
       " 'CID4535': View of AnnData object with n_obs × n_vars = 3961 × 29733\n",
       "     obs: 'orig.ident', 'nCount_RNA', 'nFeature_RNA', 'percent.mito', 'subtype', 'celltype_subset', 'celltype_minor', 'celltype_major',\n",
       " 'CID44971': View of AnnData object with n_obs × n_vars = 7986 × 29733\n",
       "     obs: 'orig.ident', 'nCount_RNA', 'nFeature_RNA', 'percent.mito', 'subtype', 'celltype_subset', 'celltype_minor', 'celltype_major'}"
      ]
     },
     "execution_count": 3,
     "metadata": {},
     "output_type": "execute_result"
    }
   ],
   "source": [
    "adatas = dict()\n",
    "sample_list = ['CID4290A', 'CID4465', 'CID4535', 'CID44971']\n",
    "for sample in sample_list:\n",
    "    adatas[sample] = adata_scRNA[adata_scRNA.obs['orig.ident']==sample]\n",
    "adatas"
   ]
  },
  {
   "cell_type": "code",
   "execution_count": 4,
   "metadata": {},
   "outputs": [],
   "source": [
    "for sample in sample_list:\n",
    "    sc.pp.filter_genes(adatas[sample], min_cells=3)\n",
    "    sc.pp.filter_cells(adatas[sample], min_genes=200)\n",
    "\n",
    "    adatas[sample].layers['raw'] = adatas[sample].X\n",
    "    adatas[sample].obs['ncounts'] = adatas[sample].to_df('raw').T.sum()"
   ]
  },
  {
   "cell_type": "code",
   "execution_count": 5,
   "metadata": {},
   "outputs": [],
   "source": [
    "del adata_scRNA"
   ]
  },
  {
   "cell_type": "markdown",
   "metadata": {},
   "source": [
    "## Running STAN"
   ]
  },
  {
   "cell_type": "code",
   "execution_count": 7,
   "metadata": {},
   "outputs": [],
   "source": [
    "for sample in sample_list:\n",
    "    print(sample)\n",
    "    adatas[sample] = stan.add_gene_tf_matrix(adatas[sample],\n",
    "                                            min_cells_proportion = 0.2,\n",
    "                                            min_tfs_per_gene= 5,\n",
    "                                            min_genes_per_tf= 10,\n",
    "                                            gene_tf_source=\"hTFtarget\",\n",
    "                                            tf_list=\"humantfs\",\n",
    "                                            source_dir=\"resources/\")\n",
    "    \n",
    "    sc.pp.normalize_total(adatas[sample])\n",
    "    adatas[sample].layers['scaled'] = np.sqrt(adatas[sample].to_df())"
   ]
  },
  {
   "cell_type": "code",
   "execution_count": 27,
   "metadata": {},
   "outputs": [],
   "source": [
    "from pathlib import Path\n",
    "path = Path('results_breast/scran_ridge')\n",
    "if not os.path.exists(path):\n",
    "    os.makedirs(path)\n",
    "    \n",
    "def ridge_wrap(adata, lam_range=[1e-3, 1e3], n_steps=4, use_pixel=True): \n",
    "    cor_list = []\n",
    "    alpha_list = []\n",
    "    adata.obsm['tfa_ridge'] = pd.DataFrame(index = adata.to_df().index,\n",
    "                                                  columns = adata.varm['gene_tf'].columns)\n",
    "    ridge_model = stan.Ridge(adata, layer='scaled')\n",
    "    for spot in adata.to_df().index:\n",
    "        ridge_model.update_spot(spot)\n",
    "        ridge_model.fit(n_steps=4, stages=1, grid_search_params={'lam':lam_range})\n",
    "        alpha_list.append(ridge_model.params['lam'])\n",
    "        cor = ridge_model.evaluate(fold=-1)\n",
    "        cor_list.append(cor)\n",
    "        adata.obsm['tfa_ridge'].loc[spot,:] =  ridge_model.W_concat.T\n",
    "\n",
    "    adata.obs['param_ridge'] = alpha_list\n",
    "    adata.obs['pred_cor_ridge'] = cor_list\n",
    "    print(\"Spot-wise correlation:\" + str(round(np.nanmedian(cor), 4)))\n",
    "    return adata"
   ]
  },
  {
   "cell_type": "code",
   "execution_count": 28,
   "metadata": {},
   "outputs": [
    {
     "name": "stdout",
     "output_type": "stream",
     "text": [
      "Spot-wise correlation:0.1249\n",
      "Spot-wise correlation:0.3497\n",
      "Spot-wise correlation:0.2454\n",
      "Spot-wise correlation:0.2813\n"
     ]
    }
   ],
   "source": [
    "for sample in ['CID4465', 'CID4290A', 'CID4535', 'CID44971']:\n",
    "    adata = adatas[sample].copy()\n",
    "    stan.assign_folds(adata, n_folds=10, random_seed=0)\n",
    "    adata = ridge_wrap(adata)\n",
    "    adata.obs['pred_cor_ridge'].to_csv(path / ('adata_'+sample+'_pred_cor_ridge.csv'))\n",
    "    adata.obsm['tfa_ridge'].to_csv(path / ('adata_'+sample+'_tfa_ridge.csv'))"
   ]
  },
  {
   "cell_type": "code",
   "execution_count": 31,
   "metadata": {},
   "outputs": [],
   "source": [
    "for cfile in ['pred_cor_ridge', 'tfa_ridge']:\n",
    "    old_name = f'{path}/adata_CID4290A_{cfile}.csv'\n",
    "    new_name = f'{path}/adata_CID4290_{cfile}.csv'\n",
    "    os.rename(old_name, new_name)"
   ]
  },
  {
   "cell_type": "markdown",
   "metadata": {},
   "source": [
    "## Deconvolution (Optional)\n",
    "The doconvolution results are provided in the directory `results_breast`."
   ]
  },
  {
   "cell_type": "code",
   "execution_count": 2,
   "metadata": {},
   "outputs": [],
   "source": [
    "from GraphST import GraphST\n",
    "from GraphST.preprocess import filter_with_overlap_gene\n",
    "from GraphST.utils import project_cell_to_spot"
   ]
  },
  {
   "cell_type": "markdown",
   "metadata": {},
   "source": [
    "### scRNA data\n",
    "Download the supplementary table of [this paper](https://www.nature.com/articles/s41588-021-00911-1#Sec39)."
   ]
  },
  {
   "cell_type": "code",
   "execution_count": 3,
   "metadata": {},
   "outputs": [],
   "source": [
    "adata_sc = sc.read_h5ad(\"results_breast/scRNA.h5ad\")\n",
    "genes = pd.read_excel(\"resources/41467_2021_26271_MOESM16_ESM.xlsx\", header=None)[0].to_list()\n",
    "genes_for_stsc = np.intersect1d(adata_sc.var_names, genes)"
   ]
  },
  {
   "cell_type": "code",
   "execution_count": 4,
   "metadata": {},
   "outputs": [],
   "source": [
    "adata_sc_list = dict()\n",
    "adata_sc_list['CID4290'] = adata_sc[adata_sc.obs[\"orig.ident\"] == 'CID4290A', genes_for_stsc]\n",
    "adata_sc_list['CID4535'] = adata_sc[adata_sc.obs[\"orig.ident\"] == 'CID4535', genes_for_stsc]\n",
    "adata_sc_list['CID4465'] = adata_sc[adata_sc.obs[\"orig.ident\"] == 'CID4465', genes_for_stsc]\n",
    "adata_sc_list['CID44971'] = adata_sc[adata_sc.obs[\"orig.ident\"] == 'CID44971', genes_for_stsc]"
   ]
  },
  {
   "cell_type": "code",
   "execution_count": 5,
   "metadata": {},
   "outputs": [],
   "source": [
    "sample_list = adata_sc_list.keys()\n",
    "for sample in sample_list:\n",
    "    adata_sc_list[sample].var_names_make_unique()\n",
    "    GraphST.preprocess(adata_sc_list[sample])"
   ]
  },
  {
   "cell_type": "markdown",
   "metadata": {},
   "source": [
    "### ST data"
   ]
  },
  {
   "cell_type": "code",
   "execution_count": 9,
   "metadata": {},
   "outputs": [
    {
     "name": "stdout",
     "output_type": "stream",
     "text": [
      "CID4290\n",
      "CID4465\n",
      "CID4535\n",
      "CID44971\n"
     ]
    }
   ],
   "source": [
    "adata_list = dict()\n",
    "sample_list = ['CID4290', 'CID4465', 'CID4535', 'CID44971']\n",
    "for sample_id in sample_list:\n",
    "    print(sample_id)\n",
    "    adata_list[sample_id] = stan.read_breast_wu(\"data/Breast_Wu/{}.h5ad\".format(sample_id))"
   ]
  },
  {
   "cell_type": "code",
   "execution_count": 10,
   "metadata": {},
   "outputs": [],
   "source": [
    "for sample in sample_list:\n",
    "    GraphST.preprocess(adata_list[sample])\n",
    "    GraphST.construct_interaction(adata_list[sample])\n",
    "    GraphST.add_contrastive_label(adata_list[sample])"
   ]
  },
  {
   "cell_type": "markdown",
   "metadata": {},
   "source": [
    "### Finding overlap genes between ST and reference data"
   ]
  },
  {
   "cell_type": "code",
   "execution_count": 11,
   "metadata": {},
   "outputs": [
    {
     "name": "stdout",
     "output_type": "stream",
     "text": [
      "Number of overlap genes: 805\n",
      "Number of overlap genes: 897\n",
      "Number of overlap genes: 921\n",
      "Number of overlap genes: 878\n"
     ]
    }
   ],
   "source": [
    "adata_sc_prep = dict()\n",
    "adata_prep = dict()\n",
    "for sample in sample_list:\n",
    "    adata_sc = adata_sc_list[sample]\n",
    "    adata = adata_list[sample]\n",
    "    adata, adata_sc = filter_with_overlap_gene(adata, adata_sc)\n",
    "    adata_sc_prep[sample] = adata_sc\n",
    "    adata_prep[sample] = adata\n",
    "    GraphST.get_feature(adata_prep[sample])"
   ]
  },
  {
   "cell_type": "markdown",
   "metadata": {},
   "source": [
    "### Implementing GraphST for cell type deconvolution"
   ]
  },
  {
   "cell_type": "code",
   "execution_count": 14,
   "metadata": {},
   "outputs": [
    {
     "name": "stdout",
     "output_type": "stream",
     "text": [
      "Begin to train ST data...\n"
     ]
    },
    {
     "name": "stderr",
     "output_type": "stream",
     "text": [
      "100%|█████████████████████████████████████████████████████████████████████████████████| 1200/1200 [01:42<00:00, 11.65it/s]\n"
     ]
    },
    {
     "name": "stdout",
     "output_type": "stream",
     "text": [
      "Optimization finished for ST data!\n",
      "Begin to train scRNA data...\n"
     ]
    },
    {
     "name": "stderr",
     "output_type": "stream",
     "text": [
      "100%|█████████████████████████████████████████████████████████████████████████████████| 1200/1200 [00:40<00:00, 29.71it/s]\n"
     ]
    },
    {
     "name": "stdout",
     "output_type": "stream",
     "text": [
      "Optimization finished for cell representation learning!\n",
      "Begin to learn mapping matrix...\n"
     ]
    },
    {
     "name": "stderr",
     "output_type": "stream",
     "text": [
      "100%|█████████████████████████████████████████████████████████████████████████████████| 1200/1200 [03:29<00:00,  5.73it/s]\n"
     ]
    },
    {
     "name": "stdout",
     "output_type": "stream",
     "text": [
      "Mapping matrix learning finished!\n",
      "Begin to train ST data...\n"
     ]
    },
    {
     "name": "stderr",
     "output_type": "stream",
     "text": [
      "100%|█████████████████████████████████████████████████████████████████████████████████| 1200/1200 [00:37<00:00, 31.63it/s]\n"
     ]
    },
    {
     "name": "stdout",
     "output_type": "stream",
     "text": [
      "Optimization finished for ST data!\n",
      "Begin to train scRNA data...\n"
     ]
    },
    {
     "name": "stderr",
     "output_type": "stream",
     "text": [
      "100%|████████████████████████████████████████████████████████████████████████████████| 1200/1200 [00:10<00:00, 111.06it/s]\n"
     ]
    },
    {
     "name": "stdout",
     "output_type": "stream",
     "text": [
      "Optimization finished for cell representation learning!\n",
      "Begin to learn mapping matrix...\n"
     ]
    },
    {
     "name": "stderr",
     "output_type": "stream",
     "text": [
      "100%|█████████████████████████████████████████████████████████████████████████████████| 1200/1200 [00:43<00:00, 27.73it/s]\n"
     ]
    },
    {
     "name": "stdout",
     "output_type": "stream",
     "text": [
      "Mapping matrix learning finished!\n",
      "Begin to train ST data...\n"
     ]
    },
    {
     "name": "stderr",
     "output_type": "stream",
     "text": [
      "100%|█████████████████████████████████████████████████████████████████████████████████| 1200/1200 [00:30<00:00, 39.64it/s]\n"
     ]
    },
    {
     "name": "stdout",
     "output_type": "stream",
     "text": [
      "Optimization finished for ST data!\n",
      "Begin to train scRNA data...\n"
     ]
    },
    {
     "name": "stderr",
     "output_type": "stream",
     "text": [
      "100%|█████████████████████████████████████████████████████████████████████████████████| 1200/1200 [00:28<00:00, 41.51it/s]\n"
     ]
    },
    {
     "name": "stdout",
     "output_type": "stream",
     "text": [
      "Optimization finished for cell representation learning!\n",
      "Begin to learn mapping matrix...\n"
     ]
    },
    {
     "name": "stderr",
     "output_type": "stream",
     "text": [
      "100%|█████████████████████████████████████████████████████████████████████████████████| 1200/1200 [00:54<00:00, 21.97it/s]\n"
     ]
    },
    {
     "name": "stdout",
     "output_type": "stream",
     "text": [
      "Mapping matrix learning finished!\n",
      "Begin to train ST data...\n"
     ]
    },
    {
     "name": "stderr",
     "output_type": "stream",
     "text": [
      "100%|█████████████████████████████████████████████████████████████████████████████████| 1200/1200 [00:34<00:00, 34.40it/s]\n"
     ]
    },
    {
     "name": "stdout",
     "output_type": "stream",
     "text": [
      "Optimization finished for ST data!\n",
      "Begin to train scRNA data...\n"
     ]
    },
    {
     "name": "stderr",
     "output_type": "stream",
     "text": [
      "100%|█████████████████████████████████████████████████████████████████████████████████| 1200/1200 [00:54<00:00, 22.06it/s]\n"
     ]
    },
    {
     "name": "stdout",
     "output_type": "stream",
     "text": [
      "Optimization finished for cell representation learning!\n",
      "Begin to learn mapping matrix...\n"
     ]
    },
    {
     "name": "stderr",
     "output_type": "stream",
     "text": [
      "100%|█████████████████████████████████████████████████████████████████████████████████| 1200/1200 [01:42<00:00, 11.75it/s]"
     ]
    },
    {
     "name": "stdout",
     "output_type": "stream",
     "text": [
      "Mapping matrix learning finished!\n"
     ]
    },
    {
     "name": "stderr",
     "output_type": "stream",
     "text": [
      "\n"
     ]
    }
   ],
   "source": [
    "import torch\n",
    "device = torch.device('cuda:0' if torch.cuda.is_available() else 'cpu')\n",
    "\n",
    "adata_sc_trained = dict()\n",
    "adata_trained = dict()\n",
    "model_trained = dict()\n",
    "\n",
    "for sample in sample_list:\n",
    "    adata_sc = adata_sc_prep[sample]\n",
    "    adata = adata_prep[sample]\n",
    "    \n",
    "    # Train model\n",
    "    model = GraphST.GraphST(adata, adata_sc, epochs=1200, random_seed=50, device=device, deconvolution=True)\n",
    "    adata, adata_sc = model.train_map()\n",
    "    \n",
    "    adata_sc_trained[sample] = adata_sc\n",
    "    adata_trained[sample] = adata\n",
    "    model_trained[sample] = model"
   ]
  },
  {
   "cell_type": "code",
   "execution_count": null,
   "metadata": {},
   "outputs": [],
   "source": [
    "for celltype_name in ['celltype_major', 'celltype_minor', 'celltype_subset']:\n",
    "    path = Path(f'results_breast/{celltype_name}')\n",
    "    if not os.path.exists(path):\n",
    "        os.makedirs(path)\n",
    "\n",
    "for celltype_name in ['celltype_major', 'celltype_minor', 'celltype_subset']:\n",
    "    for sample in sample_list:\n",
    "        adata_sc_trained[sample].obs['cell_type'] = adata_sc_trained[sample].obs[celltype_name]\n",
    "        project_cell_to_spot(adata_trained[sample], adata_sc_trained[sample], retain_percent=0.15)\n",
    "        celltypes = adata_sc_trained[sample].obs[celltype_name].unique()\n",
    "        df = pd.DataFrame(index=adata_trained[sample].obs.index,\n",
    "                         columns = celltypes)\n",
    "        for celltype in celltypes:\n",
    "            df[celltype] = adata_trained[sample].obs[celltype]\n",
    "        df.to_csv('results_breast/{}/{}.csv'.format(celltype_name, sample))"
   ]
  },
  {
   "cell_type": "code",
   "execution_count": null,
   "metadata": {},
   "outputs": [],
   "source": []
  }
 ],
 "metadata": {
  "kernelspec": {
   "display_name": "Python 3 (ipykernel)",
   "language": "python",
   "name": "python3"
  },
  "language_info": {
   "codemirror_mode": {
    "name": "ipython",
    "version": 3
   },
   "file_extension": ".py",
   "mimetype": "text/x-python",
   "name": "python",
   "nbconvert_exporter": "python",
   "pygments_lexer": "ipython3",
   "version": "3.11.5"
  }
 },
 "nbformat": 4,
 "nbformat_minor": 4
}
